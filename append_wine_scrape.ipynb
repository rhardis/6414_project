{
 "cells": [
  {
   "cell_type": "code",
   "execution_count": 4,
   "metadata": {},
   "outputs": [],
   "source": [
    "from bs4 import BeautifulSoup\n",
    "from multiprocessing.dummy import Pool\n",
    "import os\n",
    "import shutil\n",
    "import time\n",
    "import requests\n",
    "import re\n",
    "import json\n",
    "import glob\n",
    "import pandas as pd"
   ]
  },
  {
   "cell_type": "code",
   "execution_count": 5,
   "metadata": {},
   "outputs": [],
   "source": [
    "BASE_URL = 'http://www.winemag.com/?s=&drink_type=wine&page={0}'\n",
    "session = requests.Session()\n",
    "HEADERS = {\n",
    "    'user-agent': ('Mozilla/5.0 (Windows NT 6.1; WOW64) AppleWebKit/537.36 '\n",
    "                   '(KHTML, like Gecko) Chrome/48.0.2564.109 Safari/537.36')\n",
    "}\n",
    "DATA_DIR = 'data'\n",
    "FILENAME = 'winemag-data'"
   ]
  },
  {
   "cell_type": "code",
   "execution_count": 107,
   "metadata": {},
   "outputs": [],
   "source": [
    "def scrape_page(wine_name):\n",
    "    formatted_wine_name = wine_name.replace('\\'','')\n",
    "    formatted_wine_name = formatted_wine_name.replace('(','')\n",
    "    formatted_wine_name = formatted_wine_name.replace(')','')\n",
    "    formatted_wine_name = formatted_wine_name.replace(' ','-').lower()\n",
    "    print(formatted_wine_name)\n",
    "    \n",
    "    page_url = 'https://www.winemag.com/buying-guide/{}/'.format(formatted_wine_name)\n",
    "    \n",
    "    retry_count = 0\n",
    "\n",
    "    try:\n",
    "        response = session.get(page_url, headers=HEADERS)\n",
    "    except:\n",
    "        retry_count += 1\n",
    "        if retry_count <= 3:\n",
    "            response = session.get(page_url, headers=HEADERS)\n",
    "        else:\n",
    "            raise\n",
    "\n",
    "    soup = BeautifulSoup(response.content, 'html.parser')\n",
    "    txt = soup.get_text().replace('\\n','')\n",
    "    \n",
    "    return txt"
   ]
  },
  {
   "cell_type": "code",
   "execution_count": 146,
   "metadata": {},
   "outputs": [
    {
     "data": {
      "text/html": [
       "<div>\n",
       "<style scoped>\n",
       "    .dataframe tbody tr th:only-of-type {\n",
       "        vertical-align: middle;\n",
       "    }\n",
       "\n",
       "    .dataframe tbody tr th {\n",
       "        vertical-align: top;\n",
       "    }\n",
       "\n",
       "    .dataframe thead th {\n",
       "        text-align: right;\n",
       "    }\n",
       "</style>\n",
       "<table border=\"1\" class=\"dataframe\">\n",
       "  <thead>\n",
       "    <tr style=\"text-align: right;\">\n",
       "      <th></th>\n",
       "      <th>country</th>\n",
       "      <th>description</th>\n",
       "      <th>designation</th>\n",
       "      <th>points</th>\n",
       "      <th>price</th>\n",
       "      <th>province</th>\n",
       "      <th>region_1</th>\n",
       "      <th>title</th>\n",
       "      <th>variety</th>\n",
       "      <th>winery</th>\n",
       "      <th>...</th>\n",
       "      <th>avg_temp</th>\n",
       "      <th>range_temp</th>\n",
       "      <th>stdv_temp</th>\n",
       "      <th>avg_precip</th>\n",
       "      <th>range_precip</th>\n",
       "      <th>stdv_precip</th>\n",
       "      <th>lat</th>\n",
       "      <th>lng</th>\n",
       "      <th>elevation</th>\n",
       "      <th>review_length</th>\n",
       "    </tr>\n",
       "  </thead>\n",
       "  <tbody>\n",
       "    <tr>\n",
       "      <th>0</th>\n",
       "      <td>United States of America</td>\n",
       "      <td>Tastes unnatural and manipulated, with sugary ...</td>\n",
       "      <td>NaN</td>\n",
       "      <td>82</td>\n",
       "      <td>26.0</td>\n",
       "      <td>California</td>\n",
       "      <td>Napa Valley</td>\n",
       "      <td>Frog's Leap 2010 Chardonnay (Napa Valley)</td>\n",
       "      <td>Chardonnay</td>\n",
       "      <td>Frog's Leap</td>\n",
       "      <td>...</td>\n",
       "      <td>6.344341</td>\n",
       "      <td>23.887074</td>\n",
       "      <td>8.534117</td>\n",
       "      <td>70.166944</td>\n",
       "      <td>21.132379</td>\n",
       "      <td>6.204226</td>\n",
       "      <td>39.023468</td>\n",
       "      <td>-84.450465</td>\n",
       "      <td>243</td>\n",
       "      <td>18</td>\n",
       "    </tr>\n",
       "    <tr>\n",
       "      <th>1</th>\n",
       "      <td>United States of America</td>\n",
       "      <td>Fairly simple in appeal, with candied, sweet a...</td>\n",
       "      <td>Poizin</td>\n",
       "      <td>87</td>\n",
       "      <td>25.0</td>\n",
       "      <td>California</td>\n",
       "      <td>Sonoma County</td>\n",
       "      <td>Armida 2009 Poizin Zinfandel (Sonoma County)</td>\n",
       "      <td>Zinfandel</td>\n",
       "      <td>Armida</td>\n",
       "      <td>...</td>\n",
       "      <td>6.344341</td>\n",
       "      <td>23.887074</td>\n",
       "      <td>8.534117</td>\n",
       "      <td>70.166944</td>\n",
       "      <td>21.132379</td>\n",
       "      <td>6.204226</td>\n",
       "      <td>38.511080</td>\n",
       "      <td>-122.847339</td>\n",
       "      <td>27</td>\n",
       "      <td>42</td>\n",
       "    </tr>\n",
       "    <tr>\n",
       "      <th>2</th>\n",
       "      <td>United States of America</td>\n",
       "      <td>An extremely fragrant, concentrated and rich C...</td>\n",
       "      <td>NaN</td>\n",
       "      <td>90</td>\n",
       "      <td>70.0</td>\n",
       "      <td>California</td>\n",
       "      <td>Red Hills Lake County</td>\n",
       "      <td>Fortress 2007 Cabernet Sauvignon (Red Hills La...</td>\n",
       "      <td>Cabernet Sauvignon</td>\n",
       "      <td>Fortress</td>\n",
       "      <td>...</td>\n",
       "      <td>6.344341</td>\n",
       "      <td>23.887074</td>\n",
       "      <td>8.534117</td>\n",
       "      <td>70.166944</td>\n",
       "      <td>21.132379</td>\n",
       "      <td>6.204226</td>\n",
       "      <td>39.783730</td>\n",
       "      <td>-100.445882</td>\n",
       "      <td>833</td>\n",
       "      <td>57</td>\n",
       "    </tr>\n",
       "    <tr>\n",
       "      <th>3</th>\n",
       "      <td>United States of America</td>\n",
       "      <td>A bold take on a tough grape, this bottling, w...</td>\n",
       "      <td>Claudia Cuvee</td>\n",
       "      <td>88</td>\n",
       "      <td>35.0</td>\n",
       "      <td>California</td>\n",
       "      <td>Adelaida District</td>\n",
       "      <td>Alta Colina 2013 Claudia Cuvee Marsanne (Adela...</td>\n",
       "      <td>Marsanne</td>\n",
       "      <td>Alta Colina</td>\n",
       "      <td>...</td>\n",
       "      <td>6.344341</td>\n",
       "      <td>23.887074</td>\n",
       "      <td>8.534117</td>\n",
       "      <td>70.166944</td>\n",
       "      <td>21.132379</td>\n",
       "      <td>6.204226</td>\n",
       "      <td>39.783730</td>\n",
       "      <td>-100.445882</td>\n",
       "      <td>833</td>\n",
       "      <td>53</td>\n",
       "    </tr>\n",
       "    <tr>\n",
       "      <th>4</th>\n",
       "      <td>Portugal</td>\n",
       "      <td>Finely structured and with a good balance betw...</td>\n",
       "      <td>Quinto Elemento Reserva</td>\n",
       "      <td>89</td>\n",
       "      <td>30.0</td>\n",
       "      <td>Tejo</td>\n",
       "      <td>NaN</td>\n",
       "      <td>Quinta do Arrobe 2012 Quinto Elemento Reserva ...</td>\n",
       "      <td>Syrah</td>\n",
       "      <td>Quinta do Arrobe</td>\n",
       "      <td>...</td>\n",
       "      <td>16.075776</td>\n",
       "      <td>9.483322</td>\n",
       "      <td>3.353981</td>\n",
       "      <td>55.124185</td>\n",
       "      <td>88.228253</td>\n",
       "      <td>29.332227</td>\n",
       "      <td>39.783730</td>\n",
       "      <td>-100.445882</td>\n",
       "      <td>833</td>\n",
       "      <td>33</td>\n",
       "    </tr>\n",
       "  </tbody>\n",
       "</table>\n",
       "<p>5 rows × 22 columns</p>\n",
       "</div>"
      ],
      "text/plain": [
       "                    country  \\\n",
       "0  United States of America   \n",
       "1  United States of America   \n",
       "2  United States of America   \n",
       "3  United States of America   \n",
       "4                  Portugal   \n",
       "\n",
       "                                         description              designation  \\\n",
       "0  Tastes unnatural and manipulated, with sugary ...                      NaN   \n",
       "1  Fairly simple in appeal, with candied, sweet a...                   Poizin   \n",
       "2  An extremely fragrant, concentrated and rich C...                      NaN   \n",
       "3  A bold take on a tough grape, this bottling, w...            Claudia Cuvee   \n",
       "4  Finely structured and with a good balance betw...  Quinto Elemento Reserva   \n",
       "\n",
       "   points  price    province               region_1  \\\n",
       "0      82   26.0  California            Napa Valley   \n",
       "1      87   25.0  California          Sonoma County   \n",
       "2      90   70.0  California  Red Hills Lake County   \n",
       "3      88   35.0  California      Adelaida District   \n",
       "4      89   30.0        Tejo                    NaN   \n",
       "\n",
       "                                               title             variety  \\\n",
       "0          Frog's Leap 2010 Chardonnay (Napa Valley)          Chardonnay   \n",
       "1       Armida 2009 Poizin Zinfandel (Sonoma County)           Zinfandel   \n",
       "2  Fortress 2007 Cabernet Sauvignon (Red Hills La...  Cabernet Sauvignon   \n",
       "3  Alta Colina 2013 Claudia Cuvee Marsanne (Adela...            Marsanne   \n",
       "4  Quinta do Arrobe 2012 Quinto Elemento Reserva ...               Syrah   \n",
       "\n",
       "             winery  ...   avg_temp range_temp  stdv_temp  avg_precip  \\\n",
       "0       Frog's Leap  ...   6.344341  23.887074   8.534117   70.166944   \n",
       "1            Armida  ...   6.344341  23.887074   8.534117   70.166944   \n",
       "2          Fortress  ...   6.344341  23.887074   8.534117   70.166944   \n",
       "3       Alta Colina  ...   6.344341  23.887074   8.534117   70.166944   \n",
       "4  Quinta do Arrobe  ...  16.075776   9.483322   3.353981   55.124185   \n",
       "\n",
       "   range_precip  stdv_precip        lat         lng  elevation  review_length  \n",
       "0     21.132379     6.204226  39.023468  -84.450465        243             18  \n",
       "1     21.132379     6.204226  38.511080 -122.847339         27             42  \n",
       "2     21.132379     6.204226  39.783730 -100.445882        833             57  \n",
       "3     21.132379     6.204226  39.783730 -100.445882        833             53  \n",
       "4     88.228253    29.332227  39.783730 -100.445882        833             33  \n",
       "\n",
       "[5 rows x 22 columns]"
      ]
     },
     "execution_count": 146,
     "metadata": {},
     "output_type": "execute_result"
    }
   ],
   "source": [
    "df = pd.read_csv('sample_2k_wines.csv')\n",
    "df.head()"
   ]
  },
  {
   "cell_type": "code",
   "execution_count": 147,
   "metadata": {},
   "outputs": [],
   "source": [
    "#df = df.merge(df.title.apply(lambda s: pd.Series({'abv': scrape_page(x), 'feature2':s-1})), left_index=True, right_index=True)"
   ]
  },
  {
   "cell_type": "code",
   "execution_count": 148,
   "metadata": {},
   "outputs": [],
   "source": [
    "def get_abv(txt):\n",
    "    abv_txt = re.findall(r'(?<=Alcohol)(.*)(?=%)', txt)[0]\n",
    "    abv = float(re.findall(r'[0-9]+.?[0-9]+', abv_txt)[0])\n",
    "    return abv\n",
    "\n",
    "def get_bottlesize(txt):    \n",
    "    bottlesize_txt = re.findall(r'(?<=Bottle Size)(.*)(?=ml)', txt)[0]\n",
    "    bottlesize = float(re.findall(r'[0-9]+',bottlesize_txt)[0])\n",
    "    return bottlesize\n",
    "\n",
    "def get_category(txt):\n",
    "    importer = re.findall(r'(Importer\\S)',txt)\n",
    "    if importer:\n",
    "        search_string = r'(?<=mlCategory)(.*)(?={})'.format(importer[0])\n",
    "        print(search_string)\n",
    "        category = re.findall(search_string, txt)[0]\n",
    "    else:\n",
    "        category = re.findall(r'(?<=mlCategory)(.*)(?=Date Published)', txt)[0]\n",
    "    \n",
    "    return category"
   ]
  },
  {
   "cell_type": "code",
   "execution_count": 149,
   "metadata": {},
   "outputs": [
    {
     "name": "stdout",
     "output_type": "stream",
     "text": [
      "frogs-leap-2010-chardonnay-napa-valley\n",
      "armida-2009-poizin-zinfandel-sonoma-county\n",
      "fortress-2007-cabernet-sauvignon-red-hills-lake-county\n",
      "alta-colina-2013-claudia-cuvee-marsanne-adelaida-district\n",
      "quinta-do-arrobe-2012-quinto-elemento-reserva-syrah-tejo\n",
      "achaia-clauss-2015-demestica-white-moschofilero-peloponnese\n",
      "quilceda-creek-2007-red-wine-red-columbia-valley-wa\n",
      "allan-scott-2009-sauvignon-blanc-marlborough\n",
      "château-les-palais-2004-cuvée-tradition-red-corbières\n",
      "opolo-2012-serenade-cabernet-sauvignon-malbec-paso-robles\n"
     ]
    },
    {
     "ename": "IndexError",
     "evalue": "list index out of range",
     "output_type": "error",
     "traceback": [
      "\u001b[1;31m---------------------------------------------------------------------------\u001b[0m",
      "\u001b[1;31mIndexError\u001b[0m                                Traceback (most recent call last)",
      "\u001b[1;32m<ipython-input-149-60d0e56fd4ec>\u001b[0m in \u001b[0;36m<module>\u001b[1;34m\u001b[0m\n\u001b[0;32m      1\u001b[0m \u001b[0mdf\u001b[0m \u001b[1;33m=\u001b[0m \u001b[0mdf\u001b[0m\u001b[1;33m.\u001b[0m\u001b[0miloc\u001b[0m\u001b[1;33m[\u001b[0m\u001b[1;33m:\u001b[0m\u001b[1;36m10\u001b[0m\u001b[1;33m,\u001b[0m\u001b[1;33m:\u001b[0m\u001b[1;33m]\u001b[0m\u001b[1;33m\u001b[0m\u001b[1;33m\u001b[0m\u001b[0m\n\u001b[0;32m      2\u001b[0m \u001b[0mdf\u001b[0m\u001b[1;33m[\u001b[0m\u001b[1;34m'page_txt'\u001b[0m\u001b[1;33m]\u001b[0m \u001b[1;33m=\u001b[0m \u001b[0mdf\u001b[0m\u001b[1;33m.\u001b[0m\u001b[0mtitle\u001b[0m\u001b[1;33m.\u001b[0m\u001b[0mapply\u001b[0m\u001b[1;33m(\u001b[0m\u001b[1;32mlambda\u001b[0m \u001b[0mx\u001b[0m\u001b[1;33m:\u001b[0m \u001b[0mscrape_page\u001b[0m\u001b[1;33m(\u001b[0m\u001b[0mx\u001b[0m\u001b[1;33m)\u001b[0m\u001b[1;33m)\u001b[0m\u001b[1;33m\u001b[0m\u001b[1;33m\u001b[0m\u001b[0m\n\u001b[1;32m----> 3\u001b[1;33m \u001b[0mdf\u001b[0m\u001b[1;33m[\u001b[0m\u001b[1;34m'abv'\u001b[0m\u001b[1;33m]\u001b[0m \u001b[1;33m=\u001b[0m \u001b[0mdf\u001b[0m\u001b[1;33m.\u001b[0m\u001b[0mpage_txt\u001b[0m\u001b[1;33m.\u001b[0m\u001b[0mapply\u001b[0m\u001b[1;33m(\u001b[0m\u001b[1;32mlambda\u001b[0m \u001b[0mx\u001b[0m\u001b[1;33m:\u001b[0m \u001b[0mget_abv\u001b[0m\u001b[1;33m(\u001b[0m\u001b[0mx\u001b[0m\u001b[1;33m)\u001b[0m\u001b[1;33m)\u001b[0m\u001b[1;33m\u001b[0m\u001b[1;33m\u001b[0m\u001b[0m\n\u001b[0m\u001b[0;32m      4\u001b[0m \u001b[0mdf\u001b[0m\u001b[1;33m[\u001b[0m\u001b[1;34m'bottle_size'\u001b[0m\u001b[1;33m]\u001b[0m \u001b[1;33m=\u001b[0m \u001b[0mdf\u001b[0m\u001b[1;33m.\u001b[0m\u001b[0mpage_txt\u001b[0m\u001b[1;33m.\u001b[0m\u001b[0mapply\u001b[0m\u001b[1;33m(\u001b[0m\u001b[1;32mlambda\u001b[0m \u001b[0mx\u001b[0m\u001b[1;33m:\u001b[0m \u001b[0mget_bottlesize\u001b[0m\u001b[1;33m(\u001b[0m\u001b[0mx\u001b[0m\u001b[1;33m)\u001b[0m\u001b[1;33m)\u001b[0m\u001b[1;33m\u001b[0m\u001b[1;33m\u001b[0m\u001b[0m\n\u001b[0;32m      5\u001b[0m \u001b[0mdf\u001b[0m\u001b[1;33m[\u001b[0m\u001b[1;34m'category'\u001b[0m\u001b[1;33m]\u001b[0m \u001b[1;33m=\u001b[0m \u001b[0mdf\u001b[0m\u001b[1;33m.\u001b[0m\u001b[0mpage_txt\u001b[0m\u001b[1;33m.\u001b[0m\u001b[0mapply\u001b[0m\u001b[1;33m(\u001b[0m\u001b[1;32mlambda\u001b[0m \u001b[0mx\u001b[0m\u001b[1;33m:\u001b[0m \u001b[0mget_category\u001b[0m\u001b[1;33m(\u001b[0m\u001b[0mx\u001b[0m\u001b[1;33m)\u001b[0m\u001b[1;33m)\u001b[0m\u001b[1;33m\u001b[0m\u001b[1;33m\u001b[0m\u001b[0m\n",
      "\u001b[1;32mc:\\users\\richa\\appdata\\local\\programs\\python\\python37-32\\lib\\site-packages\\pandas\\core\\series.py\u001b[0m in \u001b[0;36mapply\u001b[1;34m(self, func, convert_dtype, args, **kwds)\u001b[0m\n\u001b[0;32m   4036\u001b[0m             \u001b[1;32melse\u001b[0m\u001b[1;33m:\u001b[0m\u001b[1;33m\u001b[0m\u001b[1;33m\u001b[0m\u001b[0m\n\u001b[0;32m   4037\u001b[0m                 \u001b[0mvalues\u001b[0m \u001b[1;33m=\u001b[0m \u001b[0mself\u001b[0m\u001b[1;33m.\u001b[0m\u001b[0mastype\u001b[0m\u001b[1;33m(\u001b[0m\u001b[0mobject\u001b[0m\u001b[1;33m)\u001b[0m\u001b[1;33m.\u001b[0m\u001b[0mvalues\u001b[0m\u001b[1;33m\u001b[0m\u001b[1;33m\u001b[0m\u001b[0m\n\u001b[1;32m-> 4038\u001b[1;33m                 \u001b[0mmapped\u001b[0m \u001b[1;33m=\u001b[0m \u001b[0mlib\u001b[0m\u001b[1;33m.\u001b[0m\u001b[0mmap_infer\u001b[0m\u001b[1;33m(\u001b[0m\u001b[0mvalues\u001b[0m\u001b[1;33m,\u001b[0m \u001b[0mf\u001b[0m\u001b[1;33m,\u001b[0m \u001b[0mconvert\u001b[0m\u001b[1;33m=\u001b[0m\u001b[0mconvert_dtype\u001b[0m\u001b[1;33m)\u001b[0m\u001b[1;33m\u001b[0m\u001b[1;33m\u001b[0m\u001b[0m\n\u001b[0m\u001b[0;32m   4039\u001b[0m \u001b[1;33m\u001b[0m\u001b[0m\n\u001b[0;32m   4040\u001b[0m         \u001b[1;32mif\u001b[0m \u001b[0mlen\u001b[0m\u001b[1;33m(\u001b[0m\u001b[0mmapped\u001b[0m\u001b[1;33m)\u001b[0m \u001b[1;32mand\u001b[0m \u001b[0misinstance\u001b[0m\u001b[1;33m(\u001b[0m\u001b[0mmapped\u001b[0m\u001b[1;33m[\u001b[0m\u001b[1;36m0\u001b[0m\u001b[1;33m]\u001b[0m\u001b[1;33m,\u001b[0m \u001b[0mSeries\u001b[0m\u001b[1;33m)\u001b[0m\u001b[1;33m:\u001b[0m\u001b[1;33m\u001b[0m\u001b[1;33m\u001b[0m\u001b[0m\n",
      "\u001b[1;32mpandas\\_libs\\lib.pyx\u001b[0m in \u001b[0;36mpandas._libs.lib.map_infer\u001b[1;34m()\u001b[0m\n",
      "\u001b[1;32m<ipython-input-149-60d0e56fd4ec>\u001b[0m in \u001b[0;36m<lambda>\u001b[1;34m(x)\u001b[0m\n\u001b[0;32m      1\u001b[0m \u001b[0mdf\u001b[0m \u001b[1;33m=\u001b[0m \u001b[0mdf\u001b[0m\u001b[1;33m.\u001b[0m\u001b[0miloc\u001b[0m\u001b[1;33m[\u001b[0m\u001b[1;33m:\u001b[0m\u001b[1;36m10\u001b[0m\u001b[1;33m,\u001b[0m\u001b[1;33m:\u001b[0m\u001b[1;33m]\u001b[0m\u001b[1;33m\u001b[0m\u001b[1;33m\u001b[0m\u001b[0m\n\u001b[0;32m      2\u001b[0m \u001b[0mdf\u001b[0m\u001b[1;33m[\u001b[0m\u001b[1;34m'page_txt'\u001b[0m\u001b[1;33m]\u001b[0m \u001b[1;33m=\u001b[0m \u001b[0mdf\u001b[0m\u001b[1;33m.\u001b[0m\u001b[0mtitle\u001b[0m\u001b[1;33m.\u001b[0m\u001b[0mapply\u001b[0m\u001b[1;33m(\u001b[0m\u001b[1;32mlambda\u001b[0m \u001b[0mx\u001b[0m\u001b[1;33m:\u001b[0m \u001b[0mscrape_page\u001b[0m\u001b[1;33m(\u001b[0m\u001b[0mx\u001b[0m\u001b[1;33m)\u001b[0m\u001b[1;33m)\u001b[0m\u001b[1;33m\u001b[0m\u001b[1;33m\u001b[0m\u001b[0m\n\u001b[1;32m----> 3\u001b[1;33m \u001b[0mdf\u001b[0m\u001b[1;33m[\u001b[0m\u001b[1;34m'abv'\u001b[0m\u001b[1;33m]\u001b[0m \u001b[1;33m=\u001b[0m \u001b[0mdf\u001b[0m\u001b[1;33m.\u001b[0m\u001b[0mpage_txt\u001b[0m\u001b[1;33m.\u001b[0m\u001b[0mapply\u001b[0m\u001b[1;33m(\u001b[0m\u001b[1;32mlambda\u001b[0m \u001b[0mx\u001b[0m\u001b[1;33m:\u001b[0m \u001b[0mget_abv\u001b[0m\u001b[1;33m(\u001b[0m\u001b[0mx\u001b[0m\u001b[1;33m)\u001b[0m\u001b[1;33m)\u001b[0m\u001b[1;33m\u001b[0m\u001b[1;33m\u001b[0m\u001b[0m\n\u001b[0m\u001b[0;32m      4\u001b[0m \u001b[0mdf\u001b[0m\u001b[1;33m[\u001b[0m\u001b[1;34m'bottle_size'\u001b[0m\u001b[1;33m]\u001b[0m \u001b[1;33m=\u001b[0m \u001b[0mdf\u001b[0m\u001b[1;33m.\u001b[0m\u001b[0mpage_txt\u001b[0m\u001b[1;33m.\u001b[0m\u001b[0mapply\u001b[0m\u001b[1;33m(\u001b[0m\u001b[1;32mlambda\u001b[0m \u001b[0mx\u001b[0m\u001b[1;33m:\u001b[0m \u001b[0mget_bottlesize\u001b[0m\u001b[1;33m(\u001b[0m\u001b[0mx\u001b[0m\u001b[1;33m)\u001b[0m\u001b[1;33m)\u001b[0m\u001b[1;33m\u001b[0m\u001b[1;33m\u001b[0m\u001b[0m\n\u001b[0;32m      5\u001b[0m \u001b[0mdf\u001b[0m\u001b[1;33m[\u001b[0m\u001b[1;34m'category'\u001b[0m\u001b[1;33m]\u001b[0m \u001b[1;33m=\u001b[0m \u001b[0mdf\u001b[0m\u001b[1;33m.\u001b[0m\u001b[0mpage_txt\u001b[0m\u001b[1;33m.\u001b[0m\u001b[0mapply\u001b[0m\u001b[1;33m(\u001b[0m\u001b[1;32mlambda\u001b[0m \u001b[0mx\u001b[0m\u001b[1;33m:\u001b[0m \u001b[0mget_category\u001b[0m\u001b[1;33m(\u001b[0m\u001b[0mx\u001b[0m\u001b[1;33m)\u001b[0m\u001b[1;33m)\u001b[0m\u001b[1;33m\u001b[0m\u001b[1;33m\u001b[0m\u001b[0m\n",
      "\u001b[1;32m<ipython-input-148-513bbfd6cc24>\u001b[0m in \u001b[0;36mget_abv\u001b[1;34m(txt)\u001b[0m\n\u001b[0;32m      1\u001b[0m \u001b[1;32mdef\u001b[0m \u001b[0mget_abv\u001b[0m\u001b[1;33m(\u001b[0m\u001b[0mtxt\u001b[0m\u001b[1;33m)\u001b[0m\u001b[1;33m:\u001b[0m\u001b[1;33m\u001b[0m\u001b[1;33m\u001b[0m\u001b[0m\n\u001b[1;32m----> 2\u001b[1;33m     \u001b[0mabv_txt\u001b[0m \u001b[1;33m=\u001b[0m \u001b[0mre\u001b[0m\u001b[1;33m.\u001b[0m\u001b[0mfindall\u001b[0m\u001b[1;33m(\u001b[0m\u001b[1;34mr'(?<=Alcohol)(.*)(?=%)'\u001b[0m\u001b[1;33m,\u001b[0m \u001b[0mtxt\u001b[0m\u001b[1;33m)\u001b[0m\u001b[1;33m[\u001b[0m\u001b[1;36m0\u001b[0m\u001b[1;33m]\u001b[0m\u001b[1;33m\u001b[0m\u001b[1;33m\u001b[0m\u001b[0m\n\u001b[0m\u001b[0;32m      3\u001b[0m     \u001b[0mabv\u001b[0m \u001b[1;33m=\u001b[0m \u001b[0mfloat\u001b[0m\u001b[1;33m(\u001b[0m\u001b[0mre\u001b[0m\u001b[1;33m.\u001b[0m\u001b[0mfindall\u001b[0m\u001b[1;33m(\u001b[0m\u001b[1;34mr'[0-9]+.?[0-9]+'\u001b[0m\u001b[1;33m,\u001b[0m \u001b[0mabv_txt\u001b[0m\u001b[1;33m)\u001b[0m\u001b[1;33m[\u001b[0m\u001b[1;36m0\u001b[0m\u001b[1;33m]\u001b[0m\u001b[1;33m)\u001b[0m\u001b[1;33m\u001b[0m\u001b[1;33m\u001b[0m\u001b[0m\n\u001b[0;32m      4\u001b[0m     \u001b[1;32mreturn\u001b[0m \u001b[0mabv\u001b[0m\u001b[1;33m\u001b[0m\u001b[1;33m\u001b[0m\u001b[0m\n\u001b[0;32m      5\u001b[0m \u001b[1;33m\u001b[0m\u001b[0m\n",
      "\u001b[1;31mIndexError\u001b[0m: list index out of range"
     ]
    }
   ],
   "source": [
    "df = df.iloc[:10,:]\n",
    "df['page_txt'] = df.title.apply(lambda x: scrape_page(x))\n",
    "df['abv'] = df.page_txt.apply(lambda x: get_abv(x))\n",
    "df['bottle_size'] = df.page_txt.apply(lambda x: get_bottlesize(x))\n",
    "df['category'] = df.page_txt.apply(lambda x: get_category(x))\n",
    "\n",
    "df.head(10)"
   ]
  },
  {
   "cell_type": "code",
   "execution_count": 150,
   "metadata": {},
   "outputs": [
    {
     "data": {
      "text/plain": [
       "'Opolo 2012 Serenade Cabernet Sauvignon-Malbec (Paso Robles) Rating and Review | Wine Enthusiast Magazine        var _site_base_url = \"https://www.winemag.com\";        var _is_search  = \"\";        var _is_bestBuy = \"\"    a.article-listing-block.image-size-1536x1536 .bg-image-thumb:after { padding-top: 100%; }a.article-listing-block.image-size-2048x2048 .bg-image-thumb:after { padding-top: 100%; }a.article-listing-block.image-size-related-stories-small .bg-image-thumb:after { padding-top: 65.71%; }a.article-listing-block.image-size-top-picks .bg-image-thumb:after { padding-top: 65.71%; }a.article-listing-block.image-size-mobile .bg-image-thumb:after { padding-top: 65.71%; }a.article-listing-block.image-size-related-stories .bg-image-thumb:after { padding-top: 65.91%; }a.article-listing-block.image-size-top-nav-channel .bg-image-thumb:after { padding-top: 65.91%; }a.article-listing-block.image-size-landing-page .bg-image-thumb:after { padding-top: 65.89%; }a.article-listing-block.image-size-video-page .bg-image-thumb:after { padding-top: 65.89%; }a.article-listing-block.image-size-hub-page-special-section .bg-image-thumb:after { padding-top: 65.89%; }a.article-listing-block.image-size-listicle-intro .bg-image-thumb:after { padding-top: 66%; }a.article-listing-block.image-size-carousel-category-intro .bg-image-thumb:after { padding-top: 66%; }a.article-listing-block.image-size-recipe .bg-image-thumb:after { padding-top: 65.86%; }a.article-listing-block.image-size-gallery .bg-image-thumb:after { padding-top: 65.86%; }a.article-listing-block.image-size-listicle-large .bg-image-thumb:after { padding-top: 100%; }a.article-listing-block.image-size-carousel_category .bg-image-thumb:after { padding-top: 100%; }a.article-listing-block.image-size-article-top .bg-image-thumb:after { padding-top: 65.86%; }a.article-listing-block.image-size-gallery-opener .bg-image-thumb:after { padding-top: 65.86%; }a.article-listing-block.image-size-listicle-small .bg-image-thumb:after { padding-top: 0%; }a.article-listing-block.image-size-landing-pages .bg-image-thumb:after { padding-top: 78.95%; }a.article-listing-block.image-size-what-were-tasting .bg-image-thumb:after { padding-top: 100%; }a.article-listing-block.image-size-shop-this-story .bg-image-thumb:after { padding-top: 100%; }a.article-listing-block.image-size-wine-pairing-content .bg-image-thumb:after { padding-top: 233.33%; }a.article-listing-block.image-size-wine-pairing-recipe .bg-image-thumb:after { padding-top: 100%; }a.article-listing-block.image-size-highlight-slider .bg-image-thumb:after { padding-top: 103.7%; }a.article-listing-block.image-size-large-landing-page .bg-image-thumb:after { padding-top: 106.12%; }a.article-listing-block.image-size-small-slider .bg-image-thumb:after { padding-top: 85%; }a.article-listing-block.image-size-hub-landing-page .bg-image-thumb:after { padding-top: 25.42%; }a.article-listing-block.image-size-sponsored-landing-page .bg-image-thumb:after { padding-top: 25.42%; }a.article-listing-block.image-size-feature-hero .bg-image-thumb:after { padding-top: 39.07%; }a.article-listing-block.image-size-feature-small .bg-image-thumb:after { padding-top: 65.86%; }a.article-listing-block.image-size-feature-secondary .bg-image-thumb:after { padding-top: 66.46%; }a.article-listing-block.image-size-feature-ad .bg-image-thumb:after { padding-top: 100%; }a.article-listing-block.image-size-sticky-nav-thumbnail .bg-image-thumb:after { padding-top: 100%; }a.article-listing-block.image-size-gift-guide-categories .bg-image-thumb:after { padding-top: 61.15%; }a.article-listing-block.image-size-generic-wide .bg-image-thumb:after { padding-top: 51.43%; }a.article-listing-block.image-size-generic-thumbnail .bg-image-thumb:after { padding-top: 66.15%; }a.article-listing-block.image-size-google-news-image .bg-image-thumb:after { padding-top: 75%; }a.article-listing-block.image-size-apple_news_ca_landscape_12_9 .bg-image-thumb:after { padding-top: 75%; }a.article-listing-block.image-size-apple_news_ca_landscape_9_7 .bg-image-thumb:after { padding-top: 75%; }a.article-listing-block.image-size-apple_news_ca_landscape_5_5 .bg-image-thumb:after { padding-top: 75%; }a.article-listing-block.image-size-apple_news_ca_landscape_4_7 .bg-image-thumb:after { padding-top: 75%; }a.article-listing-block.image-size-apple_news_ca_landscape_4_0 .bg-image-thumb:after { padding-top: 75%; }a.article-listing-block.image-size-apple_news_ca_portrait_12_9 .bg-image-thumb:after { padding-top: 133.33%; }a.article-listing-block.image-size-apple_news_ca_portrait_9_7 .bg-image-thumb:after { padding-top: 133.33%; }a.article-listing-block.image-size-apple_news_ca_portrait_5_5 .bg-image-thumb:after { padding-top: 133.33%; }a.article-listing-block.image-size-apple_news_ca_portrait_4_7 .bg-image-thumb:after { padding-top: 133.33%; }a.article-listing-block.image-size-apple_news_ca_portrait_4_0 .bg-image-thumb:after { padding-top: 133.33%; }a.article-listing-block.image-size-apple_news_ca_square_12_9 .bg-image-thumb:after { padding-top: 100%; }a.article-listing-block.image-size-apple_news_ca_square_9_7 .bg-image-thumb:after { padding-top: 100%; }a.article-listing-block.image-size-apple_news_ca_square_5_5 .bg-image-thumb:after { padding-top: 100%; }a.article-listing-block.image-size-apple_news_ca_square_4_7 .bg-image-thumb:after { padding-top: 100%; }a.article-listing-block.image-size-apple_news_ca_square_4_0 .bg-image-thumb:after { padding-top: 100%; }    function isInternetExplorer(){        return (navigator.appName == \\'Microsoft Internet Explorer\\' || (navigator.appName == \\'Netscape\\' && /Trident\\\\//i.test(navigator.userAgent)));    }    function getInternetExplorerVersion(){        var rv = -1;        if (navigator.appName == \\'Microsoft Internet Explorer\\'){            var ua = navigator.userAgent;            var re = new RegExp(\"MSIE ([0-9]{1,}[\\\\.0-9]{0,})\");            if (re.exec(ua) != null) {                rv = parseFloat(RegExp.$1);            }        }        return rv;    }    if (isInternetExplorer()){        document.documentElement.className += \\' internet-explorer\\';        if (getInternetExplorerVersion() > 7) {            document.documentElement.className += \\' internet-explorer-\\'+getInternetExplorerVersion();        }    }    (function(w,d,s,l,i){w[l]=w[l]||[];w[l].push({\\'gtm.start\\':                new Date().getTime(),event:\\'gtm.js\\'});var f=d.getElementsByTagName(s)[0],            j=d.createElement(s),dl=l!=\\'dataLayer\\'?\\'&l=\\'+l:\\'\\';j.async=true;j.src=            \\'https://www.googletagmanager.com/gtm.js?id=\\'+i+dl;f.parentNode.insertBefore(j,f);        })(window,document,\\'script\\',\\'dataLayer\\',\\'GTM-T9PTNNF\\');{\"@context\":\"https://schema.org\",\"@graph\":[{\"@type\":\"WebSite\",\"@id\":\"https://www.winemag.com/#website\",\"url\":\"https://www.winemag.com/\",\"name\":\"Wine Enthusiast Magazine\",\"potentialAction\":{\"@type\":\"SearchAction\",\"target\":\"https://www.winemag.com/?s={search_term_string}\",\"query-input\":\"required name=search_term_string\"}},{\"@type\":\"WebPage\",\"@id\":\"#webpage\",\"url\":false,\"inLanguage\":\"en-US\",\"name\":\"\",\"isPartOf\":{\"@id\":\"https://www.winemag.com/#website\"}}]}\\t\\t\\twindow._wpemojiSettings = {\"baseUrl\":\"https:\\\\/\\\\/s.w.org\\\\/images\\\\/core\\\\/emoji\\\\/12.0.0-1\\\\/72x72\\\\/\",\"ext\":\".png\",\"svgUrl\":\"https:\\\\/\\\\/s.w.org\\\\/images\\\\/core\\\\/emoji\\\\/12.0.0-1\\\\/svg\\\\/\",\"svgExt\":\".svg\",\"source\":{\"concatemoji\":\"https:\\\\/\\\\/www.winemag.com\\\\/wp-includes\\\\/js\\\\/wp-emoji-release.min.js\"}};\\t\\t\\t!function(e,a,t){var r,n,o,i,p=a.createElement(\"canvas\"),s=p.getContext&&p.getContext(\"2d\");function c(e,t){var a=String.fromCharCode;s.clearRect(0,0,p.width,p.height),s.fillText(a.apply(this,e),0,0);var r=p.toDataURL();return s.clearRect(0,0,p.width,p.height),s.fillText(a.apply(this,t),0,0),r===p.toDataURL()}function l(e){if(!s||!s.fillText)return!1;switch(s.textBaseline=\"top\",s.font=\"600 32px Arial\",e){case\"flag\":return!c([127987,65039,8205,9895,65039],[127987,65039,8203,9895,65039])&&(!c([55356,56826,55356,56819],[55356,56826,8203,55356,56819])&&!c([55356,57332,56128,56423,56128,56418,56128,56421,56128,56430,56128,56423,56128,56447],[55356,57332,8203,56128,56423,8203,56128,56418,8203,56128,56421,8203,56128,56430,8203,56128,56423,8203,56128,56447]));case\"emoji\":return!c([55357,56424,55356,57342,8205,55358,56605,8205,55357,56424,55356,57340],[55357,56424,55356,57342,8203,55358,56605,8203,55357,56424,55356,57340])}return!1}function d(e){var t=a.createElement(\"script\");t.src=e,t.defer=t.type=\"text/javascript\",a.getElementsByTagName(\"head\")[0].appendChild(t)}for(i=Array(\"flag\",\"emoji\"),t.supports={everything:!0,everythingExceptFlag:!0},o=0;o<i.length;o++)t.supports[i[o]]=l(i[o]),t.supports.everything=t.supports.everything&&t.supports[i[o]],\"flag\"!==i[o]&&(t.supports.everythingExceptFlag=t.supports.everythingExceptFlag&&t.supports[i[o]]);t.supports.everythingExceptFlag=t.supports.everythingExceptFlag&&!t.supports.flag,t.DOMReady=!1,t.readyCallback=function(){t.DOMReady=!0},t.supports.everything||(n=function(){t.readyCallback()},a.addEventListener?(a.addEventListener(\"DOMContentLoaded\",n,!1),e.addEventListener(\"load\",n,!1)):(e.attachEvent(\"onload\",n),a.attachEvent(\"onreadystatechange\",function(){\"complete\"===a.readyState&&t.readyCallback()})),(r=t.source||{}).concatemoji?d(r.concatemoji):r.wpemoji&&r.twemoji&&(d(r.twemoji),d(r.wpemoji)))}(window,document,window._wpemojiSettings);\\t\\timg.wp-smiley,img.emoji {\\tdisplay: inline !important;\\tborder: none !important;\\tbox-shadow: none !important;\\theight: 1em !important;\\twidth: 1em !important;\\tmargin: 0 .07em !important;\\tvertical-align: -0.1em !important;\\tbackground: none !important;\\tpadding: 0 !important;}{    \"@context\": \"https://schema.org\",    \"@type\": \"Product\",    \"image\": \"https://www.winemag.com/wp-content/assets/reviews/label-images/wine/wine/251616_129be_feb17_3740.jpg\",    \"name\": \"Opolo 2012 Serenade Cabernet Sauvignon-Malbec (Paso Robles)\",    \"category\": \"Red\",    \"review\": {        \"@type\": \"Review\",        \"name\": \"Opolo 2012 Serenade Cabernet Sauvignon-Malbec (Paso Robles)\",        \"reviewRating\": {            \"@type\": \"Rating\",            \"bestRating\": 100,            \"ratingValue\": \"92\"        },        \"author\": {            \"@type\": \"Person\",            \"name\": \"Matt Kettmann\"        },        \"datePublished\": \"2017-01-02T00:00:00+00:00\",        \"reviewBody\": \"Caramelized blackberries, black plum, lilacs and milk chocolate make for a nicely rounded nose. Baked blackberry and blueberry meet with vanilla and oak flavors on the palate, which is held up by solid tannins.\",        \"publisher\": {            \"@type\": \"Organization\",            \"name\": \"Wine Enthusiast Magazine\",            \"address\": \"200 Summit Lake Drive Valhalla, NY 10595\",            \"logo\": {                \"@type\": \"imageObject\",                \"url\": \"https://www.winemag.com/wp-content/themes/TrellisFoundation-child/assets/img/we_logo_mag_black_600x113.png\",                \"width\": 319,                \"height\": 60            }        }    }}      /* to determine ad call target using javascript to avoid issues caused by the full page caching in production */          var _targetedKeyword = \"\";          function get_ad_target(fallback){        fallback = fallback || \"\";            if (_targetedKeyword.length > 0){          return _targetedKeyword;        } else if ((cookieKeyword = document.cookie.match(/[\\\\s;]?targeted_keyword=([^;]+)/)) !== null) {          return cookieKeyword[1];        }            return fallback;      }            var sas = sas || {};        sas.cmd = sas.cmd || [];            sas.cmd.push(function() {            sas.setup( {domain: \"https://www9.smartadserver.com\", async: true} );        });                             sas.call(\"onecall\", {          siteId:\\t\\t82939,          pageId:\\t\\t598532,          formatId:\\t\\'35936,39896,35937,36115,36114,85800\\',          target:\\t\\tget_ad_target(\"\")        });          (function(i,s,o,g,r,a,m){i[\\'GoogleAnalyticsObject\\']=r;i[r]=i[r]||function(){          (i[r].q=i[r].q||[]).push(arguments)},i[r].l=1*new Date();a=s.createElement(o),          m=s.getElementsByTagName(o)[0];a.async=1;a.src=g;m.parentNode.insertBefore(a,m)      })(window,document,\\'script\\',\\'//www.google-analytics.com/analytics.js\\',\\'ga\\');    ga(\\'create\\', \\'UA-18811961-2\\', \\'auto\\', { \\'allowLinker\\' : true });    ga(\\'require\\', \\'linker\\');    ga(\\'linker:autoLink\\', [\"brightcove.net\"]);    // Page publish date    ga(\\'set\\', \\'dimension2\\', \\'\\');    // Page category    try{        window.onload = function () {            var metaTags = document.getElementsByTagName(\\'meta\\');            var pageCategory = \\'None\\';            for ( var i=0; i < metaTags.length; i++ ) {                if ( metaTags[i].getAttribute(\\'property\\') === \\'article:section\\' ) {                    pageCategory = metaTags[i].getAttribute(\\'content\\');                }            }            ga(\\'set\\', \\'dimension3\\', pageCategory);        };    } catch(err){}    ga(\\'send\\', \\'pageview\\');  var _sf_startpt=(new Date()).getTime()    (function(w,d) {      w.kwa || (w.kwa = function() {        (w.kwa.q = w.kwa.q || []).push(arguments);      });      se = d.createElement(\\'script\\'),      fs = d.scripts[0];      se.src = \\'//cdn.keywee.co/dist/analytics.min.js\\';      fs.parentNode.insertBefore(se,fs)    }(window, document));       !function(f,b,e,v,n,t,s){if(f.fbq)return;n=f.fbq=function(){n.callMethod?    n.callMethod.apply(n,arguments):n.queue.push(arguments)};if(!f._fbq)f._fbq=n;    n.push=n;n.loaded=!0;n.version=\\'2.0\\';n.queue=[];t=b.createElement(e);t.async=!0;    t.src=v;s=b.getElementsByTagName(e)[0];s.parentNode.insertBefore(t,s)}(window,    document,\\'script\\',\\'https://connect.facebook.net/en_US/fbevents.js\\');    fbq(\\'init\\', \\'245960748940248\\'); // Insert your pixel ID here.    fbq(\\'track\\', \\'PageView\\');              window.fbAsyncInit = function() {            FB.init({              appId            : \\'398082916877673\\',              autoLogAppEvents : true,              xfbml            : true,              version          : \\'v3.1\\'            });          };                  (function(d, s, id){             var js, fjs = d.getElementsByTagName(s)[0];             if (d.getElementById(id)) {return;}             js = d.createElement(s); js.id = id;             js.src = \"https://connect.facebook.net/en_US/sdk.js\";             fjs.parentNode.insertBefore(js, fjs);           }(document, \\'script\\', \\'facebook-jssdk\\'));        window.twttr = (function(d, s, id) {              var js, fjs = d.getElementsByTagName(s)[0],                t = window.twttr || {};              if (d.getElementById(id)) return t;              js = d.createElement(s);              js.id = id;              js.src = \"https://platform.twitter.com/widgets.js\";              fjs.parentNode.insertBefore(js, fjs);                          t._e = [];              t.ready = function(f) {                t._e.push(f);              };                          return t;            }(document, \"script\", \"twitter-wjs\"));            window.pAsyncInit = function() {                PDK.init({                    appId: \"4805167207956884109\",                    cookie: true                });            };                    (function(d, s, id){                var js, pjs = d.getElementsByTagName(s)[0];                if (d.getElementById(id)) {return;}                js = d.createElement(s); js.id = id;                js.src = \"//assets.pinterest.com/sdk/sdk.js\";                pjs.parentNode.insertBefore(js, pjs);            }(document, \\'script\\', \\'pinterest-jssdk\\'));        Welcome to winemag.com! By using our website you agree to our use of cookies and the terms of our Privacy PolicyAccept  ✖.st0{fill:#FFFFFF;} Subscribe×WineVintage ChartWine Shipping LawsCabernet SauvignonChampagneChardonnayMerlotMalbecPinot NoirProseccoPinot GrigioRieslingSauvignon BlancShiraz/SyrahZinfandelRatingsWine RatingsSpirit RatingsBeer and Cider RatingsWine BasicsRed WineWhite WineWine & Food PairingsWine TermsWine and Cheese PairingBest of Lists100 Best Wines Under $15 of 2019100 Wines to Cellar of 2019The Enthusiast 100 of 2018Top Spirits 2018Top 25 Beers of 201810 Best Wine Travel Destinations of 2019America\\'s 100 Best Wine Restaurants of 2019DrinksCocktail RecipesVodkaTequilaWhiskeyBeer and Cider RatingsSpirit RatingsTravel10 Best Wine Travel Destinations 2019Your Napa Valley Winery GuideFoodPopular RecipesPairingsAmerica\\'s 100 Best Wine Restaurants of 2019Trade NewsWine Enthusiast\\'s 2018 Wine Star Award WinnersWine Star Awards VideosImporter ConnectionAdvertiseSubscribeDigitalPrintAdvertisePodcastOur SitesBuy Wine AccessoriesBuy WineGift Registry Find a Wine  92pointsOpolo 2012 Serenade Cabernet Sauvignon-Malbec (Paso Robles)Editors\\' Choice  FacebookTwitterPinterestFlipboardCaramelized blackberries, black plum, lilacs and milk chocolate make for a nicely rounded nose. Baked blackberry and blueberry meet with vanilla and oak flavors on the palate, which is held up by solid tannins. Matt KettmannPrice$32,\\xa0\\xa0Buy NowDesignationSerenadeVarietyCabernet Sauvignon-Malbec, Bordeaux-style Red BlendAppellationPaso Robles, Central Coast, California, USWineryOpoloPrint a Shelf Talker LabelAlcohol14%Bottle Size750 mlCategoryRedDate Published2/1/2017User Avg RatingNot rated yet [Add Your Review]User Reviews\\xa0Opolo 2012 Serenade Cabernet Sauvignon-Malbec (Paso Robles)92PointsOnly registered users can leave review.Already a member?  Sign inNot a member?  Sign up\\xa0Related WinesMatthews 2016 Claret (Columbia Valley (WA))Columbia ValleyMatthews 2016 Claret (Columbia Valley (WA))Columbia ValleyIn this blend of 45% Cabernet Sauvignon, 32% Merlot, 17% Cabernet Franc,\\xa0...See Full Review90 Points$35 DiamAndes 2014 de Uco Grande Reserve Malbec-Cabernet (Mendoza)Mendoza ProvinceDiamAndes 2014 de Uco Grande Reserve Malbec-Cabernet (Mendoza)Mendoza ProvinceWhile this blend of Malbec and Cabernet Sauvignon is hot and heady\\xa0...See Full Review92 Points$35 J. Bookwalter 2016 Readers Merlot (Columbia Valley (WA))Columbia ValleyJ. Bookwalter 2016 Readers Merlot (Columbia Valley (WA))Columbia ValleyOlder vine fruit from Conner Lee and Dionysus vineyards make up the\\xa0...Editors’ ChoiceSee Full Review91 Points$28 See all our listsTop 100 Best Buys of 2019 Top 100 Cellar Selections of 2019 The Enthusiast 100 of 2018 Top 100 Spirits of 2018 Top 25 Beers of 2018 Related ArticlesCelebrate Paso Robles\\' 130th Anniversary with These WinesRaise a glass to this historic town with some of our favorite bottles from the region. 10 Bold New World Cabernet\\xa0SauvignonsFrom Argentina, California and Washington, here are the Cabernet Sauvignons you’re going to want to have on your shelf.The Best Wine Vintages to Drink in 2019If you\\'re standing in a wine shop wondering which year is best, this is your cheat sheet to the top wine vintages worldwide.Top 10 Cabernet Sauvignons Rated\\xa090+Here are some of our recently reviewed Cabernet Sauvignons that are perfect for enjoying while grilling this summer.The Wines of Christmas Past, Present and FutureUsing “A Christmas Carol” as our guide, we look at older vintages at their peak, young wines to consume in the present and bottles to age into the future.  About the Wine Enthusiast Buying GuideTasting Methodology and GoalsAll tastings reported in the Buying Guide are performed blind. Typically, products are tasted in peer-group flights of from 5–8 samples. Reviewers may know general information about a flight to provide context—vintage, variety or appellation—but never the producer or retail price of any given selection. When possible, products considered flawed or uncustomary are retasted.About the ScoresRatings reflect what our editors felt about a particular product. Beyond the rating, we encourage you to read the accompanying tasting note to learn about a product’s special characteristics.98–100ClassicThe pinnacle of quality.94–97SuperbA great achievement.90–93ExcellentHighly recommended.87–89Very GoodOften good value; well recommended.83–86GoodSuitable for everyday consumption; often good value.80–82AcceptableCan be employed in casual, less-critical circumstances.Products deemed Unacceptable (receiving a rating below 80 points) are not reviewed.expand for moreSpecial DesignationsEditors\\' Choice wines are those that offer excellent quality at a price above our Best Buy range, or a wine at any price with unique qualities that merit special attention.Cellar Selections are wines deemed highly collectible and/or requiring time in a temperature-controlled wine cellar to reach their maximum potential. A Cellar Selection designation does not mean that a wine must be stored to be enjoyed, but that cellaring will probably result in a more enjoyable bottle. In general, an optimum time for cellaring will be indicated.Best Buys are wines that offer a high level of quality in relation to price. There are no specific guidelines or formulae for determining Best Buys, but they are generally priced at $15 or less.For the TradeHow to Submit Wines for ReviewWine Enthusiast Magazine tastes, rates and reviews wines, spirits and beers for publication in our Buying Guide, both in print and online. If you are interested in submitting samples for review and publication, please click here. Find Ratings & ReviewsWineSpiritBeerAll VarietalsAlbariñoBarberaBordeaux-style Red BlendCabernet FrancCabernet SauvignonCarignanCarmenèreChardonnayChenin BlancFrühburgunderGamayGewürztraminerGreek RedGreek WhiteGrenacheGrüner VeltlinerItalian RedItalian WhiteLembergerMadeiraMalbecMarsanneMerlotMourvèdreMuscatNebbioloOtherOther RedOther WhitePetit VerdotPetite SirahPinot BlancPinot Blanc/Pinot GrisPinot Grigio/GrisPinot NoirPinotagePort BlendPortuguese RedPortuguese WhiteRed BlendsRhône-style Red BlendRhône-style White BlendRieslingRoséRoussanneSangioveseSauvignon BlancSémillonSherryShiraz/SyrahSpanish RedSpanish WhiteSparklingTempranilloTinta CaoTorrontésTrollingerViognierWhite BlendZinfandel ToApply  What We\\'re TastingSegal\\'s 2017 Fusion Merlot-Cabernet Franc-Cabernet Sauvignon Red (Galilee)Bordeaux-style Red Blend$15Rating: 90   SUBSCRIBE TONEWSLETTERSThe latest wine reviews, trends and recipes plus special offers on wine storage and accessoriesPlease enter a valid email addressSign upWelcome to winemag.com! By using our website and/or subscribing to our newsletter, you agree to our use of cookies and the terms of our                    Privacy PolicySomething went wrong, please try again later Shelf TalkersChoose a size below to open a printable set of shelf talkers:2.5” × 5”3” × 3.5”6” × 2”×Subscribe to Wine Enthusiast Magazinefor as little as$1.79 an issue!State/PRAlabamaAlaskaArizonaArkansasCaliforniaColoradoConnecticutDelawareDistrict of ColumbiaFloridaGeorgiaHawaiiIdahoIllinoisIndianaIowaKansasKentuckyLouisianaMaineMarylandMassachusettsMichiganMinnesotaMississippiMissouriMontanaNebraskaNevadaNew HampshireNew JerseyNew MexicoNew YorkNorth CarolinaNorth DakotaOhioOklahomaOregonPennsylvaniaRhode IslandSouth CarolinaSouth DakotaTennesseeTexasUtahVermontVirginiaWashingtonWest VirginiaWisconsinWyoming\\xa0U.S. PossessionsAmerican SamoaFederated States MicronesiaGuamMarshall IslandsNorthern Mariana IslandsPalauPuerto RicoVirgin Islands\\xa0U.S. MilitaryArmed Forces Africa-AEArmed Forces Canada-AEArmed Forces Americas-AAArmed Forces Europe-AEArmed Forces MiddleEast-AEArmed Forces Pacific-APNext                 By continuing to use our Services and/or submitting the above information, you agree to our use of cookies and the terms of our                Privacy PolicyCategoriesWine & RatingsWine BasicsDrinksFoodTravelGrape VarietiesWine Shipping LawsAbout UsCompany HistoryMeet the EditorsContact UsCareer OpportunitiesCharity PartnersPrivacy PolicySubscribePrintDigitalRSSBuying Guide RSSTradeAdvertiseImporter ConnectionBeverage Industry EnthusiastWine Star AwardsSubmit for RatingOur SitesBUY WINE ACCESSORIESBUY WINEGIFT REGISTRYFOLLOW US Copyright ©2019 Wine Enthusiast Magazine.All rights reserved. function printFunction() { window.print(); } /* <![CDATA[ */var ajaxurl = [\"https:\\\\/\\\\/www.winemag.com\\\\/wp-admin\\\\/admin-ajax.php\"];var phpVars = {\"currentPostID\":\"0\",\"ajaxSecurity\":\"b4f5eaddf1\",\"ajaxUrl\":\"https:\\\\/\\\\/www.winemag.com\\\\/wp-admin\\\\/admin-ajax.php\"};/* ]]> */    var _sf_async_config={};    /** CONFIGURATION START **/    _sf_async_config.uid = 57484;    _sf_async_config.domain = \\'winemag.com\\';    _sf_async_config.useCanonical = true;    _sf_async_config.sections = \"\";    _sf_async_config.authors = \"\";    /** CONFIGURATION END **/    (function(){      function loadChartbeat() {        window._sf_endpt=(new Date()).getTime();        var e = document.createElement(\\'script\\');        e.setAttribute(\\'language\\', \\'javascript\\');        e.setAttribute(\\'type\\', \\'text/javascript\\');        e.setAttribute(\\'src\\', \\'//static.chartbeat.com/js/chartbeat.js\\');        document.body.appendChild(e);      }      var oldonload = window.onload;      window.onload = (typeof window.onload != \\'function\\') ?          loadChartbeat : function() { oldonload(); loadChartbeat(); };    })();    function getCookie(cname) {        var name = cname + \"=\";        var cookieArray = document.cookie.split(\\';\\');        for(var i=0; i<cookieArray.length; i++) {            var myCookie = cookieArray[i];            while (myCookie.charAt(0)=== \\' \\') {                myCookie = myCookie.substring(1);            }            if (myCookie.indexOf(name) === 0) {                return myCookie.substring(name.length,myCookie.length);            }        }        return \"\";    }    function maybeFire(){      if ( getCookie(\\'wmg_cookie_consent\\') ) {        kwa(\\'initialize\\',941);      }     }    setTimeout( function () {      maybeFire();    }, 1001 );      s.pageName = document.title;    var s_code=s.t();if(s_code)document.write(s_code);  '"
      ]
     },
     "execution_count": 150,
     "metadata": {},
     "output_type": "execute_result"
    }
   ],
   "source": [
    "df.page_txt.iloc[9]"
   ]
  },
  {
   "cell_type": "code",
   "execution_count": 93,
   "metadata": {},
   "outputs": [],
   "source": [
    "purl = df.title.iloc[4]"
   ]
  },
  {
   "cell_type": "code",
   "execution_count": 100,
   "metadata": {},
   "outputs": [
    {
     "name": "stdout",
     "output_type": "stream",
     "text": [
      "https://www.winemag.com/buying-guide/quinta-do-arrobe-2012-quinto-elemento-reserva-syrah-tejo/\n"
     ]
    },
    {
     "data": {
      "text/plain": [
       "14.0"
      ]
     },
     "execution_count": 100,
     "metadata": {},
     "output_type": "execute_result"
    }
   ],
   "source": [
    "wine_name = purl\n",
    "\n",
    "formatted_wine_name = wine_name.replace('\\'','')\n",
    "formatted_wine_name = formatted_wine_name.replace('(','')\n",
    "formatted_wine_name = formatted_wine_name.replace(')','')\n",
    "formatted_wine_name = formatted_wine_name.replace(' ','-').lower()\n",
    "\n",
    "page_url = 'https://www.winemag.com/buying-guide/{}/'.format(formatted_wine_name)\n",
    "print(page_url)\n",
    "\n",
    "retry_count = 0\n",
    "\n",
    "try:\n",
    "    response = session.get(page_url, headers=HEADERS)\n",
    "except:\n",
    "    retry_count += 1\n",
    "    if retry_count <= 3:\n",
    "        response = session.get(page_url, headers=HEADERS)\n",
    "    else:\n",
    "        raise\n",
    "\n",
    "soup = BeautifulSoup(response.content, 'html.parser')\n",
    "txt = soup.get_text().replace('\\n','')\n",
    "\n",
    "abv_txt = re.findall(r'(?<=Alcohol)(.*)(?=%)', txt)[0]\n",
    "abv = float(re.findall(r'[0-9]+.?[0-9]+', abv_txt)[0])\n",
    "category = re.findall(r'(?<=mlCategory)(.*)(?=Date Published)', txt)[0]\n",
    "\n",
    "abv"
   ]
  },
  {
   "cell_type": "code",
   "execution_count": 66,
   "metadata": {},
   "outputs": [
    {
     "data": {
      "text/plain": [
       "'https://www.winemag.com/buying-guide/frogs-leap-2010-chardonnay-napa-valley/'"
      ]
     },
     "execution_count": 66,
     "metadata": {},
     "output_type": "execute_result"
    }
   ],
   "source": [
    "'https://www.winemag.com/buying-guide/frogs-leap-2010-chardonnay-napa-valley/'"
   ]
  },
  {
   "cell_type": "code",
   "execution_count": 133,
   "metadata": {},
   "outputs": [
    {
     "name": "stdout",
     "output_type": "stream",
     "text": [
      "yes\n"
     ]
    }
   ],
   "source": [
    "t = 'Importer Importerz '\n",
    "if re.findall(r'(Importer\\S)', t):\n",
    "    print('yes')\n"
   ]
  },
  {
   "cell_type": "code",
   "execution_count": null,
   "metadata": {},
   "outputs": [],
   "source": []
  }
 ],
 "metadata": {
  "kernelspec": {
   "display_name": "Python 3",
   "language": "python",
   "name": "python3"
  },
  "language_info": {
   "codemirror_mode": {
    "name": "ipython",
    "version": 3
   },
   "file_extension": ".py",
   "mimetype": "text/x-python",
   "name": "python",
   "nbconvert_exporter": "python",
   "pygments_lexer": "ipython3",
   "version": "3.7.4"
  }
 },
 "nbformat": 4,
 "nbformat_minor": 2
}
